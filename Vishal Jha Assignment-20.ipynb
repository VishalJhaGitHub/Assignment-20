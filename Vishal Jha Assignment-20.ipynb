{
 "cells": [
  {
   "cell_type": "code",
   "execution_count": 1,
   "id": "6bc9ae9a-0325-473d-b465-1bb3f90ac3e5",
   "metadata": {},
   "outputs": [],
   "source": [
    "#1. What is Web Scraping? Why is it Used? Give three areas where Web Scraping is used to get data.\n",
    "\n",
    "#Ans\n",
    "\n",
    "#Web scraping is the process of automatically extracting data from websites by using software or bots. The data can be extracted from various sources such as HTML, XML, JSON, and other structured data formats available on the internet.\n",
    "\n",
    "#Web scraping is used for - \n",
    "\n",
    "#1 - Data collection: Companies use web scraping to collect data on competitors, market trends, customer behavior, and product information.\n",
    "\n",
    "#2 - Research: Academics and researchers use web scraping to gather data for analysis and studies.\n",
    "\n",
    "#3 - Monitoring: Web scraping can be used to monitor changes to websites, prices, and product availability in real-time.\n",
    "\n",
    "#Three areas where web scraping is used - \n",
    "\n",
    "#1 - E-commerce: Online retailers use web scraping to monitor competitor prices, gather product data, and analyze customer reviews.\n",
    "\n",
    "#2 - Finance: Financial institutions use web scraping to gather market data, track stock prices, and monitor financial news.\n",
    "\n",
    "#3 - Marketing: Marketers use web scraping to gather data on potential customers, track social media activity, and analyze trends in online behavior."
   ]
  },
  {
   "cell_type": "code",
   "execution_count": 2,
   "id": "52492031-aed5-4d9b-bb0e-d4f2f62abef8",
   "metadata": {},
   "outputs": [],
   "source": [
    "#2. What are the different methods used for Web Scraping?\n",
    "\n",
    "#Ans\n",
    "\n",
    "#1 - Using libraries and frameworks: One of the easiest ways to scrape data from websites is to use libraries and frameworks like Beautiful Soup, Scrapy, and Selenium. These libraries allow you to extract data from HTML and XML documents and automate web browsers to simulate user interactions.\n",
    "\n",
    "#2 - API Scraping: Some websites offer APIs (Application Programming Interfaces) that allow developers to extract data in a structured format. If an API is available, it is usually the most efficient and reliable way to obtain data.\n",
    "\n",
    "#3 - Regular Expressions: Regular expressions can be used to search for and extract specific patterns of text from HTML pages. While powerful, regular expressions can be complicated and error-prone.\n",
    "\n",
    "#4 - Parsing HTML manually: If you have a good understanding of HTML and the structure of the website you are scraping, you can manually parse the HTML to extract the data you need."
   ]
  },
  {
   "cell_type": "code",
   "execution_count": 3,
   "id": "118c73fc-6508-4ff3-9181-459614ac3fa9",
   "metadata": {},
   "outputs": [],
   "source": [
    "#3. What is Beautiful Soup? Why is it used?\n",
    "\n",
    "#Ans\n",
    "\n",
    "#Beautiful Soup is a Python library used for web scraping purposes. It is a popular tool among developers for parsing HTML and XML documents. Beautiful Soup provides a simple way to navigate and search through the structure of HTML and XML documents.\n",
    "\n",
    "#Beautiful Soup is used because it allows developers to extract data from web pages without having to manually parse and search through the HTML code. It provides a high-level API for accessing the contents of HTML documents, making it easier to scrape web pages.\n",
    "\n",
    "#Beautiful Soup you can search for specific HTML tags, extract attributes from tags, and navigate the structure of HTML documents. Beautiful Soup can also handle poorly formatted HTML and XML, making it a reliable tool for web scraping."
   ]
  },
  {
   "cell_type": "code",
   "execution_count": 4,
   "id": "118f07e0-fffe-4474-a40a-8f7bcf7a5ed4",
   "metadata": {},
   "outputs": [],
   "source": [
    "#4. Why is flask used in this Web Scraping project?\n",
    "\n",
    "#Ans\n",
    "\n",
    "#Flask is a lightweight web framework for Python that is commonly used to build web applications. Flask is often used in web scraping projects because it provides a simple way to create a web server and handle HTTP requests.\n",
    "\n",
    "#In a web scraping project, Flask can be used to create a web application that allows users to input search queries or other parameters, and then displays the scraped data in a user-friendly way. Flask can also handle authentication, routing, and other web development tasks, making it a convenient choice for building web scraping applications."
   ]
  },
  {
   "cell_type": "code",
   "execution_count": 5,
   "id": "3cfad9ab-68ca-4e9f-874b-96468ca25952",
   "metadata": {},
   "outputs": [],
   "source": [
    "#5. Write the names of AWS services used in this project. Also, explain the use of each service.\n",
    "\n",
    "#Ans\n",
    "\n",
    "#1 - Amazon EC2 (Elastic Compute Cloud): This is a cloud-based virtual machine service that allows you to run applications on the cloud. It can be used to host your web application or web scraping scripts.\n",
    "\n",
    "#2 - Amazon S3 (Simple Storage Service): This is a highly-scalable object storage service that can be used to store and retrieve any amount of data. It can be used to store data that is scraped by your web scraping script.\n",
    "\n",
    "#3 - Amazon RDS (Relational Database Service): This is a cloud-based database service that makes it easy to set up, operate, and scale a relational database. It can be used to store and retrieve data for your web application.\n",
    "\n",
    "#4 - Amazon API Gateway: This is a fully-managed service that can be used to create, deploy, and manage APIs. It can be used to create APIs for your web application or web scraping scripts."
   ]
  },
  {
   "cell_type": "code",
   "execution_count": null,
   "id": "15e5c344-4941-4b0f-bcd3-5fba9df98867",
   "metadata": {},
   "outputs": [],
   "source": []
  }
 ],
 "metadata": {
  "kernelspec": {
   "display_name": "Python 3 (ipykernel)",
   "language": "python",
   "name": "python3"
  },
  "language_info": {
   "codemirror_mode": {
    "name": "ipython",
    "version": 3
   },
   "file_extension": ".py",
   "mimetype": "text/x-python",
   "name": "python",
   "nbconvert_exporter": "python",
   "pygments_lexer": "ipython3",
   "version": "3.10.8"
  }
 },
 "nbformat": 4,
 "nbformat_minor": 5
}
